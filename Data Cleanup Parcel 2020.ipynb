{
 "cells": [
  {
   "cell_type": "code",
   "execution_count": null,
   "id": "58f2f7b8",
   "metadata": {},
   "outputs": [],
   "source": [
    "#Importing our libraries and 2020 Land Parcel data from LA County\n",
    "\n",
    "import requests\n",
    "import json\n",
    "import pandas as pd\n",
    "import geopandas as gpd\n",
    "\n",
    "requestString = 'https://data.lacounty.gov/resource/42ne-gwcj.json?City=LOS ANGELES CA&$limit=1000000'\n",
    "r = requests.get(requestString)\n",
    "d = json.loads(r.text)\n",
    "df_2020 = pd.DataFrame(d)\n",
    "df_2020"
   ]
  },
  {
   "cell_type": "code",
   "execution_count": null,
   "id": "754ebd70",
   "metadata": {},
   "outputs": [],
   "source": [
    "#keep the desired columns\n",
    "columns = ['ain','situszip','center_lat','center_lon','rollyear','roll_landvalue','sqftmain','roll_impbaseyear','propertylocation','usecodedescchar1','effectiveyearbuilt','parcelboundarydescription','roll_landbaseyear','location_1']\n",
    "df_2020_n = pd.DataFrame(df_2020, columns=columns)\n",
    "df_2020_n"
   ]
  },
  {
   "cell_type": "code",
   "execution_count": null,
   "id": "d9457f6d",
   "metadata": {},
   "outputs": [],
   "source": [
    "#convert to a geodataframe\n",
    "gdf_2020 = gpd.GeoDataFrame(\n",
    "    df_2020_n, geometry=gpd.points_from_xy(df_2020_n.center_lon, df_2020_n.center_lat, \n",
    "                                          crs='EPSG:4326'))\n",
    "gdf_2020.head()"
   ]
  },
  {
   "cell_type": "code",
   "execution_count": null,
   "id": "b9a765dd",
   "metadata": {},
   "outputs": [],
   "source": [
    "#import neighborhood boundary data\n",
    "nb= gpd.read_file('/Users/jinglanlin/Desktop/School/01 UCLA/04 Spring 2022/UP 229 DS/Github/UDS-Project--Full-Team-/Data/LA_Times_Neighborhood_Boundaries (1)-Copy1.geojson')\n",
    "nb.head()"
   ]
  },
  {
   "cell_type": "code",
   "execution_count": null,
   "id": "323e531f",
   "metadata": {},
   "outputs": [],
   "source": [
    "#join neighborhood boundary with land value data\n",
    "gdf_2020_sjoin = gpd.sjoin(gdf_2020,nb.to_crs('EPSG:4326'),how=\"left\", predicate='intersects')\n",
    "gdf_2020_sjoin.head()"
   ]
  },
  {
   "cell_type": "code",
   "execution_count": null,
   "id": "d67bfcc3",
   "metadata": {},
   "outputs": [],
   "source": [
    "#keep data with the following neighborhood: Koreatown, Westlake, Silver Lake, Echo Park, Downtown, Pico Union\n",
    "Westlake = gdf_2020_sjoin.loc[gdf_2020_sjoin['name'] == 'Westlake']\n",
    "Westlake = Westlake.drop(['index_right'], axis=1)\n",
    "Westlake"
   ]
  },
  {
   "cell_type": "code",
   "execution_count": null,
   "id": "474f801a",
   "metadata": {},
   "outputs": [],
   "source": [
    "Koreatown = gdf_2020_sjoin.loc[gdf_2020_sjoin['name'] == 'Koreatown']\n",
    "Koreatown = Koreatown.drop(['index_right'], axis=1)\n",
    "Koreatown"
   ]
  },
  {
   "cell_type": "code",
   "execution_count": null,
   "id": "bd94887a",
   "metadata": {},
   "outputs": [],
   "source": [
    "Pico_Union = gdf_2020_sjoin.loc[gdf_2020_sjoin['name'] == 'Pico-Union']\n",
    "Pico_Union = Pico_Union.drop(['index_right'], axis=1)\n",
    "Pico_Union"
   ]
  },
  {
   "cell_type": "code",
   "execution_count": null,
   "id": "5ee3102a",
   "metadata": {},
   "outputs": [],
   "source": [
    "Downtown = gdf_2020_sjoin.loc[gdf_2020_sjoin['name'] == 'Downtown']\n",
    "Downtown = Downtown.drop(['index_right'], axis=1)\n",
    "Downtown"
   ]
  },
  {
   "cell_type": "code",
   "execution_count": null,
   "id": "7b89adfa",
   "metadata": {},
   "outputs": [],
   "source": [
    "Silver_Lake = gdf_2020_sjoin.loc[gdf_2020_sjoin['name'] == 'Silver Lake']\n",
    "Silver_Lake = Silver_Lake.drop(['index_right'], axis=1)\n",
    "Silver_Lake"
   ]
  },
  {
   "cell_type": "code",
   "execution_count": null,
   "id": "ebd034f2",
   "metadata": {},
   "outputs": [],
   "source": [
    "Echo_Park = gdf_2020_sjoin.loc[gdf_2020_sjoin['name'] == 'Echo Park']\n",
    "Echo_Park = Echo_Park.drop(['index_right'], axis=1)\n",
    "Echo_Park"
   ]
  },
  {
   "cell_type": "code",
   "execution_count": null,
   "id": "814c67cb",
   "metadata": {},
   "outputs": [],
   "source": [
    "join1 = pd.concat([Westlake, Koreatown], axis=0).reset_index(drop=True)\n",
    "join1"
   ]
  },
  {
   "cell_type": "code",
   "execution_count": null,
   "id": "240400fe",
   "metadata": {},
   "outputs": [],
   "source": [
    "join2 = pd.concat([join1,Pico_Union], axis=0).reset_index(drop=True)\n",
    "join2"
   ]
  },
  {
   "cell_type": "code",
   "execution_count": null,
   "id": "fad553d8",
   "metadata": {},
   "outputs": [],
   "source": [
    "join3 = pd.concat([join2,Downtown], axis=0).reset_index(drop=True)\n",
    "join3"
   ]
  },
  {
   "cell_type": "code",
   "execution_count": null,
   "id": "03c94048",
   "metadata": {},
   "outputs": [],
   "source": [
    "join4 = pd.concat([join3,Silver_Lake], axis=0).reset_index(drop=True)\n",
    "join4"
   ]
  },
  {
   "cell_type": "code",
   "execution_count": null,
   "id": "bde6b64f",
   "metadata": {},
   "outputs": [],
   "source": [
    "#final join of all the neighborhoods to the land value data\n",
    "finaljoin = pd.concat([join4,Echo_Park], axis=0).reset_index(drop=True)\n",
    "finaljoin"
   ]
  },
  {
   "cell_type": "code",
   "execution_count": null,
   "id": "318c4921",
   "metadata": {},
   "outputs": [],
   "source": [
    "#import census tract dataset\n",
    "tract = gpd.read_file('/Users/jinglanlin/Desktop/School/01 UCLA/04 Spring 2022/UP 229 DS/Github/UDS-Project--Full-Team-/Data/Census_Tracts_2020.geojson')\n",
    "tract.head()"
   ]
  },
  {
   "cell_type": "code",
   "execution_count": null,
   "id": "6299c173",
   "metadata": {},
   "outputs": [],
   "source": [
    "#join tracts to land value data with neighborhood\n",
    "gdf_2020_sjoin = gpd.sjoin(finaljoin,tract.to_crs('EPSG:4326'),how=\"left\", predicate='intersects')\n",
    "gdf_2020_sjoin =gdf_2020_sjoin.rename(columns={'name': 'neighborhood'})\n",
    "gdf_2020_sjoin"
   ]
  },
  {
   "cell_type": "code",
   "execution_count": null,
   "id": "b0e1fb1d",
   "metadata": {},
   "outputs": [],
   "source": [
    "#save the file to the folder\n",
    "gdf_2020_sjoin.to_file('landvalue_2020_new.geojson', driver='GeoJSON') "
   ]
  },
  {
   "cell_type": "code",
   "execution_count": null,
   "id": "583bbf87",
   "metadata": {},
   "outputs": [],
   "source": []
  },
  {
   "cell_type": "code",
   "execution_count": null,
   "id": "ea8fcc9b",
   "metadata": {},
   "outputs": [],
   "source": []
  }
 ],
 "metadata": {
  "kernelspec": {
   "display_name": "Python 3 (ipykernel)",
   "language": "python",
   "name": "python3"
  },
  "language_info": {
   "codemirror_mode": {
    "name": "ipython",
    "version": 3
   },
   "file_extension": ".py",
   "mimetype": "text/x-python",
   "name": "python",
   "nbconvert_exporter": "python",
   "pygments_lexer": "ipython3",
   "version": "3.8.13"
  }
 },
 "nbformat": 4,
 "nbformat_minor": 5
}
